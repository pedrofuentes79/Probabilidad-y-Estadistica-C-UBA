{
 "cells": [
  {
   "attachments": {},
   "cell_type": "markdown",
   "metadata": {},
   "source": [
    "El siguiente conjunto de datos corresponden a los salarios actuales en miles de pesos de los empleados de una pequeña empresa.\n",
    "\n",
    "39, 32, 55, 51, 26"
   ]
  },
  {
   "cell_type": "code",
   "execution_count": 4,
   "metadata": {},
   "outputs": [
    {
     "name": "stdout",
     "output_type": "stream",
     "text": [
      "Mediana:  39.0\n",
      "Desviación estándar:  12.300406497347964\n",
      "Desviación absoluta mediana:  12.0\n"
     ]
    }
   ],
   "source": [
    "import numpy as np\n",
    "from scipy import stats\n",
    "\n",
    "#busco la mediana, el desvio estandar muestral (s, el estimador insesgado de la varianza) \n",
    "# y el mad estandarizado\n",
    "\n",
    "x = [39, 32, 55, 51, 26]\n",
    "median = np.median(x)\n",
    "s = np.std(x, ddof=1)\n",
    "mad = stats.median_abs_deviation(x)\n",
    "\n",
    "print(\"Mediana: \", median)\n",
    "print(\"Desviación estándar: \", s)\n",
    "print(\"Desviación absoluta mediana: \", mad)\n",
    "\n"
   ]
  },
  {
   "cell_type": "code",
   "execution_count": 10,
   "metadata": {},
   "outputs": [
    {
     "data": {
      "text/plain": [
       "1.0"
      ]
     },
     "execution_count": 10,
     "metadata": {},
     "output_type": "execute_result"
    }
   ],
   "source": [
    "# otro ej\n",
    "import numpy as np\n",
    "\n",
    "#busco el percentil 25\n",
    "\n",
    "x = np.array([0,1,2,3,4])\n",
    "p25 = np.percentile(x, 25)\n",
    "p25"
   ]
  },
  {
   "cell_type": "code",
   "execution_count": 13,
   "metadata": {},
   "outputs": [
    {
     "name": "stdout",
     "output_type": "stream",
     "text": [
      "q3 25.75\n",
      "q1 7.25\n"
     ]
    }
   ],
   "source": [
    "#otra muestra\n",
    "import numpy as np\n",
    "x = [1,2,5,8,10,14,17,21,25,28,40,45]\n",
    "\n",
    "rango_muestral = np.max(x) - np.min(x)\n",
    "q3 = np.percentile(x, 75)\n",
    "q1 = np.percentile(x, 25)\n",
    "print(\"q3\",q3)\n",
    "print(\"q1\", q1)\n",
    "\n",
    "\n",
    "\n",
    "\n"
   ]
  },
  {
   "cell_type": "code",
   "execution_count": null,
   "metadata": {},
   "outputs": [],
   "source": []
  }
 ],
 "metadata": {
  "kernelspec": {
   "display_name": "Python 3",
   "language": "python",
   "name": "python3"
  },
  "language_info": {
   "codemirror_mode": {
    "name": "ipython",
    "version": 3
   },
   "file_extension": ".py",
   "mimetype": "text/x-python",
   "name": "python",
   "nbconvert_exporter": "python",
   "pygments_lexer": "ipython3",
   "version": "3.9.13"
  },
  "orig_nbformat": 4
 },
 "nbformat": 4,
 "nbformat_minor": 2
}
