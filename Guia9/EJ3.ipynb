{
 "cells": [
  {
   "attachments": {},
   "cell_type": "markdown",
   "metadata": {},
   "source": [
    "3. Se diseñó un nuevo sistema de riego de manera tal que el desvı́o del tiempo de activación\n",
    "sea menor que 6 segundos. Se lo prueba 11 veces, obteniéndose los siguientes tiempos\n",
    "de activación:\n",
    "27 41 22 27 23 35 30 24 27 28 22\n",
    "Suponiendo que el tiempo de activación (en segundos) es una v.a. con distribución\n",
    "normal:\n",
    "(a) ¿Usted decidirı́a, a nivel 0.05, que el sistema cumple la especificación?\n",
    "(b) Acotar el p.-valor\n",
    "(c) Encontrar la función de potencia π(σ 2 ), implementarla en R y graficarla. ¿Es\n",
    "creciente o decreciente? ¿Cuánto vale en σ = 6?"
   ]
  },
  {
   "cell_type": "code",
   "execution_count": 15,
   "metadata": {},
   "outputs": [],
   "source": [
    "# Sea X el tiempo de activación en segundos. Asumimos distribución normal\n",
    "# σ_0 = 6\n",
    "# H0: σ=6 vs H1: σ<6\n",
    "import numpy as np\n",
    "from scipy.stats import chi2\n",
    "\n",
    "X = np.array([27 , 41, 22, 27, 23, 35, 30, 24, 27, 28, 22])\n",
    "n = len(X)\n",
    "sigma_0 = 6\n",
    "alpha = 0.05\n",
    "media_muestral = np.mean(X)\n",
    "desvio_muestral = np.std(X, ddof=1)\n",
    "\n",
    "#Valor crítico\n",
    "valor_critico = chi2.ppf(alpha, df=n-1)\n"
   ]
  },
  {
   "cell_type": "code",
   "execution_count": 16,
   "metadata": {},
   "outputs": [
    {
     "name": "stdout",
     "output_type": "stream",
     "text": [
      "Estadístico observado 9.378787878787879\n",
      "Valor crítico 3.9402991361190605\n",
      "No rechazo H0\n"
     ]
    }
   ],
   "source": [
    "# Busco el estadístico. \n",
    "# Sé que si H0 es cierta, el estadístico sigue una distribución chi2 con n-1 grados de libertad\n",
    "\n",
    "estadistico = (n-1)*desvio_muestral**2/sigma_0**2\n",
    "\n",
    "print(\"Estadístico observado\", estadistico)\n",
    "print(\"Valor crítico\", valor_critico)\n",
    "\n",
    "# Regla de decisión\n",
    "if estadistico < valor_critico:\n",
    "    print(\"Rechazo H0\")\n",
    "else:\n",
    "    print(\"No rechazo H0\")"
   ]
  },
  {
   "cell_type": "code",
   "execution_count": 14,
   "metadata": {},
   "outputs": [
    {
     "name": "stdout",
     "output_type": "stream",
     "text": [
      "0.5034283426853524\n"
     ]
    }
   ],
   "source": [
    "#Busco el p-valor\n",
    "p_valor = chi2.cdf(estadistico, df=n-1)\n",
    "print(p_valor)"
   ]
  },
  {
   "cell_type": "code",
   "execution_count": null,
   "metadata": {},
   "outputs": [],
   "source": [
    "#(c) Encontrar la función de potencia π(σ**2) y graficarla \n",
    "# ¿Es creciente o decreciente? ¿Cuánto vale en σ = 6?\n",
    "\n",
    "# La función de potencia es 1 - P(no rechazo h0 | ho es falsa)\n",
    "# Es decir, 1 - P(χ2 >= valor_critico | σ != 6)\n",
    "# Es decir, 1 - P(χ2 >= valor_critico | σ**2 != 36)"
   ]
  }
 ],
 "metadata": {
  "kernelspec": {
   "display_name": "base",
   "language": "python",
   "name": "python3"
  },
  "language_info": {
   "codemirror_mode": {
    "name": "ipython",
    "version": 3
   },
   "file_extension": ".py",
   "mimetype": "text/x-python",
   "name": "python",
   "nbconvert_exporter": "python",
   "pygments_lexer": "ipython3",
   "version": "3.9.13"
  },
  "orig_nbformat": 4
 },
 "nbformat": 4,
 "nbformat_minor": 2
}
