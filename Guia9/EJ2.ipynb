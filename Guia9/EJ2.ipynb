{
 "cells": [
  {
   "attachments": {},
   "cell_type": "markdown",
   "metadata": {},
   "source": [
    "En la construcción de un edificio debe usarse un concreto que tenga una tensión media mayor a 300 psi. Para verificar si el concreto preparado a partir del cemento \"Loma Blanca\" cumple con este requerimiento, se realizan 15 mediciones en forma independiente de la tensión de este concreto. Se observa una media muestral de 304 psi y un desvío estándar muestral de 10 psi. El constructor está dispuesto a correr un riesgo del 5% de comprar cemento \"Loma Blanca\" cuando éste produce un concreto que no cumple con las especificaciones. Suponiendo que los datos están normalmente distribuidos:\n",
    "\n",
    "a. Plantear el test correspondiente. ¿Qué decisión se toma?\n",
    "\n",
    "b. Acotar el p-valor."
   ]
  },
  {
   "cell_type": "code",
   "execution_count": 2,
   "metadata": {},
   "outputs": [
    {
     "name": "stdout",
     "output_type": "stream",
     "text": [
      "Rechazo la hipotesis nula\n",
      "El p-valor es:  0.07182000012261058\n"
     ]
    }
   ],
   "source": [
    "from scipy.stats import t\n",
    "import numpy as np\n",
    "\n",
    "#busco hacer un test de hipotesis para la media de una población normal\n",
    "# H0: mu = 300 vs H1: mu > 300\n",
    "\n",
    "#inicializo las variables\n",
    "media_muestral = 304\n",
    "desvio_muestral = 10\n",
    "n = 15\n",
    "alfa = 0.05\n",
    "#busco la distribución del estadístico\n",
    "distribucion = t(n-1)\n",
    "#busco el valor crítico\n",
    "valor_critico = distribucion.ppf(alfa)\n",
    "\n",
    "#busco el estadístico\n",
    "estadistico = (media_muestral - 300)/(desvio_muestral/np.sqrt(n))\n",
    "\n",
    "#tomo la decisión\n",
    "if estadistico > valor_critico:\n",
    "    print(\"Rechazo la hipotesis nula\")\n",
    "else:\n",
    "    print(\"No rechazo la hipotesis nula\")\n",
    "\n",
    "\n",
    "#busco el p-valor usando la \"cumulative distributive function\" (cdf)\n",
    "p_valor = 1 - distribucion.cdf(estadistico)\n",
    "print(\"El p-valor es: \", p_valor)\n",
    "\n"
   ]
  },
  {
   "cell_type": "code",
   "execution_count": null,
   "metadata": {},
   "outputs": [],
   "source": []
  }
 ],
 "metadata": {
  "kernelspec": {
   "display_name": "base",
   "language": "python",
   "name": "python3"
  },
  "language_info": {
   "codemirror_mode": {
    "name": "ipython",
    "version": 3
   },
   "file_extension": ".py",
   "mimetype": "text/x-python",
   "name": "python",
   "nbconvert_exporter": "python",
   "pygments_lexer": "ipython3",
   "version": "3.9.13"
  },
  "orig_nbformat": 4
 },
 "nbformat": 4,
 "nbformat_minor": 2
}
